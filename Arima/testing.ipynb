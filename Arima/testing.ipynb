{
 "cells": [
  {
   "cell_type": "code",
   "execution_count": 35,
   "metadata": {},
   "outputs": [],
   "source": [
    "import numpy as np \n",
    "import pandas as pd \n",
    "import matplotlib.pyplot as plt \n",
    "import seaborn as sns\n",
    "from datetime import datetime, timedelta"
   ]
  },
  {
   "cell_type": "code",
   "execution_count": 31,
   "metadata": {},
   "outputs": [],
   "source": [
    "from statsmodels.tsa.stattools import acf, pacf, adfuller\n",
    "from statsmodels.graphics.tsaplots import plot_acf, plot_pacf\n",
    "from statsmodels.tsa.arima.model import ARIMA"
   ]
  },
  {
   "cell_type": "code",
   "execution_count": 3,
   "metadata": {},
   "outputs": [],
   "source": [
    "df = pd.read_csv(\"./Datasets/Formated-data.csv\")"
   ]
  },
  {
   "cell_type": "code",
   "execution_count": 4,
   "metadata": {},
   "outputs": [
    {
     "data": {
      "text/html": [
       "<div>\n",
       "<style scoped>\n",
       "    .dataframe tbody tr th:only-of-type {\n",
       "        vertical-align: middle;\n",
       "    }\n",
       "\n",
       "    .dataframe tbody tr th {\n",
       "        vertical-align: top;\n",
       "    }\n",
       "\n",
       "    .dataframe thead th {\n",
       "        text-align: right;\n",
       "    }\n",
       "</style>\n",
       "<table border=\"1\" class=\"dataframe\">\n",
       "  <thead>\n",
       "    <tr style=\"text-align: right;\">\n",
       "      <th></th>\n",
       "      <th>EmployeeCode</th>\n",
       "      <th>AppliedLeaveTypeName</th>\n",
       "      <th>LeaveDate</th>\n",
       "      <th>AppliedLeaveRemarks</th>\n",
       "      <th>DayName</th>\n",
       "    </tr>\n",
       "  </thead>\n",
       "  <tbody>\n",
       "    <tr>\n",
       "      <th>0</th>\n",
       "      <td>6066</td>\n",
       "      <td>ANNUAL LEAVE</td>\n",
       "      <td>2024-07-31</td>\n",
       "      <td>Body pain</td>\n",
       "      <td>Wednesday</td>\n",
       "    </tr>\n",
       "    <tr>\n",
       "      <th>1</th>\n",
       "      <td>107</td>\n",
       "      <td>ANNUAL LEAVE</td>\n",
       "      <td>2024-02-01</td>\n",
       "      <td>From Transaction</td>\n",
       "      <td>Thursday</td>\n",
       "    </tr>\n",
       "    <tr>\n",
       "      <th>2</th>\n",
       "      <td>107</td>\n",
       "      <td>ANNUAL LEAVE</td>\n",
       "      <td>2024-02-02</td>\n",
       "      <td>From Transaction</td>\n",
       "      <td>Friday</td>\n",
       "    </tr>\n",
       "    <tr>\n",
       "      <th>3</th>\n",
       "      <td>107</td>\n",
       "      <td>ANNUAL LEAVE</td>\n",
       "      <td>2024-04-09</td>\n",
       "      <td>NaN</td>\n",
       "      <td>Tuesday</td>\n",
       "    </tr>\n",
       "    <tr>\n",
       "      <th>4</th>\n",
       "      <td>107</td>\n",
       "      <td>ANNUAL LEAVE</td>\n",
       "      <td>2024-06-18</td>\n",
       "      <td>leg pain</td>\n",
       "      <td>Tuesday</td>\n",
       "    </tr>\n",
       "  </tbody>\n",
       "</table>\n",
       "</div>"
      ],
      "text/plain": [
       "  EmployeeCode AppliedLeaveTypeName   LeaveDate AppliedLeaveRemarks    DayName\n",
       "0         6066         ANNUAL LEAVE  2024-07-31           Body pain  Wednesday\n",
       "1          107         ANNUAL LEAVE  2024-02-01    From Transaction   Thursday\n",
       "2          107         ANNUAL LEAVE  2024-02-02    From Transaction     Friday\n",
       "3          107         ANNUAL LEAVE  2024-04-09                 NaN    Tuesday\n",
       "4          107         ANNUAL LEAVE  2024-06-18            leg pain    Tuesday"
      ]
     },
     "execution_count": 4,
     "metadata": {},
     "output_type": "execute_result"
    }
   ],
   "source": [
    "df.head()"
   ]
  },
  {
   "cell_type": "code",
   "execution_count": 5,
   "metadata": {},
   "outputs": [
    {
     "data": {
      "text/plain": [
       "(6471, 5)"
      ]
     },
     "execution_count": 5,
     "metadata": {},
     "output_type": "execute_result"
    }
   ],
   "source": [
    "df.shape"
   ]
  },
  {
   "cell_type": "code",
   "execution_count": 6,
   "metadata": {},
   "outputs": [
    {
     "name": "stdout",
     "output_type": "stream",
     "text": [
      "<class 'pandas.core.frame.DataFrame'>\n",
      "RangeIndex: 6471 entries, 0 to 6470\n",
      "Data columns (total 5 columns):\n",
      " #   Column                Non-Null Count  Dtype \n",
      "---  ------                --------------  ----- \n",
      " 0   EmployeeCode          6471 non-null   object\n",
      " 1   AppliedLeaveTypeName  6471 non-null   object\n",
      " 2   LeaveDate             6471 non-null   object\n",
      " 3   AppliedLeaveRemarks   5862 non-null   object\n",
      " 4   DayName               6471 non-null   object\n",
      "dtypes: object(5)\n",
      "memory usage: 252.9+ KB\n"
     ]
    }
   ],
   "source": [
    "df.info()"
   ]
  },
  {
   "cell_type": "code",
   "execution_count": 7,
   "metadata": {},
   "outputs": [
    {
     "data": {
      "text/plain": [
       "EmployeeCode              0\n",
       "AppliedLeaveTypeName      0\n",
       "LeaveDate                 0\n",
       "AppliedLeaveRemarks     609\n",
       "DayName                   0\n",
       "dtype: int64"
      ]
     },
     "execution_count": 7,
     "metadata": {},
     "output_type": "execute_result"
    }
   ],
   "source": [
    "df.isna().sum()"
   ]
  },
  {
   "cell_type": "code",
   "execution_count": 8,
   "metadata": {},
   "outputs": [],
   "source": [
    "df['LeaveDate'] = pd.to_datetime(df['LeaveDate'], errors='coerce')"
   ]
  },
  {
   "cell_type": "code",
   "execution_count": 9,
   "metadata": {},
   "outputs": [],
   "source": [
    "start_date = df['LeaveDate'].min()\n",
    "end_date = df['LeaveDate'].max()"
   ]
  },
  {
   "cell_type": "code",
   "execution_count": 10,
   "metadata": {},
   "outputs": [],
   "source": [
    "all_dates = pd.date_range(start=start_date, end=end_date)"
   ]
  },
  {
   "cell_type": "code",
   "execution_count": 11,
   "metadata": {},
   "outputs": [],
   "source": [
    "all_dates_df = pd.DataFrame(all_dates, columns=['LeaveDate'])"
   ]
  },
  {
   "cell_type": "code",
   "execution_count": 12,
   "metadata": {},
   "outputs": [],
   "source": [
    "employee_code = df['EmployeeCode'].iloc[1]  # Using the first employee code as the example\n",
    "all_dates_df['EmployeeCode'] = employee_code"
   ]
  },
  {
   "cell_type": "code",
   "execution_count": 13,
   "metadata": {},
   "outputs": [],
   "source": [
    "all_dates_df['DayName'] = all_dates_df['LeaveDate'].dt.day_name()"
   ]
  },
  {
   "cell_type": "code",
   "execution_count": 14,
   "metadata": {},
   "outputs": [],
   "source": [
    "merged_df = pd.merge(all_dates_df, df[['EmployeeCode', 'LeaveDate', 'AppliedLeaveTypeName', 'AppliedLeaveRemarks']], \n",
    "                     on=['EmployeeCode', 'LeaveDate'], how='left')"
   ]
  },
  {
   "cell_type": "code",
   "execution_count": 15,
   "metadata": {},
   "outputs": [
    {
     "name": "stderr",
     "output_type": "stream",
     "text": [
      "C:\\Users\\mohan\\AppData\\Local\\Temp\\ipykernel_12628\\3770438322.py:1: FutureWarning: A value is trying to be set on a copy of a DataFrame or Series through chained assignment using an inplace method.\n",
      "The behavior will change in pandas 3.0. This inplace method will never work because the intermediate object on which we are setting values always behaves as a copy.\n",
      "\n",
      "For example, when doing 'df[col].method(value, inplace=True)', try using 'df.method({col: value}, inplace=True)' or df[col] = df[col].method(value) instead, to perform the operation inplace on the original object.\n",
      "\n",
      "\n",
      "  merged_df['AppliedLeaveTypeName'].fillna(method='ffill', inplace=True)\n",
      "C:\\Users\\mohan\\AppData\\Local\\Temp\\ipykernel_12628\\3770438322.py:1: FutureWarning: Series.fillna with 'method' is deprecated and will raise in a future version. Use obj.ffill() or obj.bfill() instead.\n",
      "  merged_df['AppliedLeaveTypeName'].fillna(method='ffill', inplace=True)\n",
      "C:\\Users\\mohan\\AppData\\Local\\Temp\\ipykernel_12628\\3770438322.py:2: FutureWarning: A value is trying to be set on a copy of a DataFrame or Series through chained assignment using an inplace method.\n",
      "The behavior will change in pandas 3.0. This inplace method will never work because the intermediate object on which we are setting values always behaves as a copy.\n",
      "\n",
      "For example, when doing 'df[col].method(value, inplace=True)', try using 'df.method({col: value}, inplace=True)' or df[col] = df[col].method(value) instead, to perform the operation inplace on the original object.\n",
      "\n",
      "\n",
      "  merged_df['AppliedLeaveRemarks'].fillna(method='ffill', inplace=True)\n",
      "C:\\Users\\mohan\\AppData\\Local\\Temp\\ipykernel_12628\\3770438322.py:2: FutureWarning: Series.fillna with 'method' is deprecated and will raise in a future version. Use obj.ffill() or obj.bfill() instead.\n",
      "  merged_df['AppliedLeaveRemarks'].fillna(method='ffill', inplace=True)\n"
     ]
    }
   ],
   "source": [
    "merged_df['AppliedLeaveTypeName'].fillna(method='ffill', inplace=True)\n",
    "merged_df['AppliedLeaveRemarks'].fillna(method='ffill', inplace=True)"
   ]
  },
  {
   "cell_type": "code",
   "execution_count": 16,
   "metadata": {},
   "outputs": [
    {
     "data": {
      "text/html": [
       "<div>\n",
       "<style scoped>\n",
       "    .dataframe tbody tr th:only-of-type {\n",
       "        vertical-align: middle;\n",
       "    }\n",
       "\n",
       "    .dataframe tbody tr th {\n",
       "        vertical-align: top;\n",
       "    }\n",
       "\n",
       "    .dataframe thead th {\n",
       "        text-align: right;\n",
       "    }\n",
       "</style>\n",
       "<table border=\"1\" class=\"dataframe\">\n",
       "  <thead>\n",
       "    <tr style=\"text-align: right;\">\n",
       "      <th></th>\n",
       "      <th>LeaveDate</th>\n",
       "      <th>EmployeeCode</th>\n",
       "      <th>DayName</th>\n",
       "      <th>AppliedLeaveTypeName</th>\n",
       "      <th>AppliedLeaveRemarks</th>\n",
       "    </tr>\n",
       "  </thead>\n",
       "  <tbody>\n",
       "    <tr>\n",
       "      <th>0</th>\n",
       "      <td>2024-02-01</td>\n",
       "      <td>107</td>\n",
       "      <td>Thursday</td>\n",
       "      <td>ANNUAL LEAVE</td>\n",
       "      <td>From Transaction</td>\n",
       "    </tr>\n",
       "    <tr>\n",
       "      <th>1</th>\n",
       "      <td>2024-02-02</td>\n",
       "      <td>107</td>\n",
       "      <td>Friday</td>\n",
       "      <td>ANNUAL LEAVE</td>\n",
       "      <td>From Transaction</td>\n",
       "    </tr>\n",
       "    <tr>\n",
       "      <th>2</th>\n",
       "      <td>2024-02-03</td>\n",
       "      <td>107</td>\n",
       "      <td>Saturday</td>\n",
       "      <td>ANNUAL LEAVE</td>\n",
       "      <td>From Transaction</td>\n",
       "    </tr>\n",
       "    <tr>\n",
       "      <th>3</th>\n",
       "      <td>2024-02-04</td>\n",
       "      <td>107</td>\n",
       "      <td>Sunday</td>\n",
       "      <td>ANNUAL LEAVE</td>\n",
       "      <td>From Transaction</td>\n",
       "    </tr>\n",
       "    <tr>\n",
       "      <th>4</th>\n",
       "      <td>2024-02-05</td>\n",
       "      <td>107</td>\n",
       "      <td>Monday</td>\n",
       "      <td>BACK TO INDIA</td>\n",
       "      <td>From Transaction</td>\n",
       "    </tr>\n",
       "  </tbody>\n",
       "</table>\n",
       "</div>"
      ],
      "text/plain": [
       "   LeaveDate EmployeeCode   DayName AppliedLeaveTypeName AppliedLeaveRemarks\n",
       "0 2024-02-01          107  Thursday         ANNUAL LEAVE    From Transaction\n",
       "1 2024-02-02          107    Friday         ANNUAL LEAVE    From Transaction\n",
       "2 2024-02-03          107  Saturday         ANNUAL LEAVE    From Transaction\n",
       "3 2024-02-04          107    Sunday         ANNUAL LEAVE    From Transaction\n",
       "4 2024-02-05          107    Monday        BACK TO INDIA    From Transaction"
      ]
     },
     "execution_count": 16,
     "metadata": {},
     "output_type": "execute_result"
    }
   ],
   "source": [
    "merged_df.head()"
   ]
  },
  {
   "cell_type": "code",
   "execution_count": 17,
   "metadata": {},
   "outputs": [],
   "source": [
    "merged_df.fillna({\n",
    "    'AppliedLeaveTypeName': \"No Leave\", \n",
    "    'AppliedLeaveRemarks': \"No Remarks\"\n",
    "}, inplace=True)"
   ]
  },
  {
   "cell_type": "code",
   "execution_count": 18,
   "metadata": {},
   "outputs": [],
   "source": [
    "merged_df['LeaveStatus'] = merged_df['AppliedLeaveTypeName'].apply(lambda x: 0 if (x == 'OFF IN LIEU' or x == 'ANNUAL LEAVE') else 1)"
   ]
  },
  {
   "cell_type": "code",
   "execution_count": 19,
   "metadata": {},
   "outputs": [
    {
     "data": {
      "text/plain": [
       "array(['ANNUAL LEAVE', 'BACK TO INDIA'], dtype=object)"
      ]
     },
     "execution_count": 19,
     "metadata": {},
     "output_type": "execute_result"
    }
   ],
   "source": [
    "merged_df['AppliedLeaveTypeName'].unique()"
   ]
  },
  {
   "cell_type": "code",
   "execution_count": 20,
   "metadata": {},
   "outputs": [
    {
     "data": {
      "text/plain": [
       "(182, 6)"
      ]
     },
     "execution_count": 20,
     "metadata": {},
     "output_type": "execute_result"
    }
   ],
   "source": [
    "merged_df.shape"
   ]
  },
  {
   "cell_type": "code",
   "execution_count": 21,
   "metadata": {},
   "outputs": [],
   "source": [
    "data = merged_df.sort_values(by=['EmployeeCode', 'LeaveDate'])"
   ]
  },
  {
   "cell_type": "code",
   "execution_count": 22,
   "metadata": {},
   "outputs": [],
   "source": [
    "data.set_index('LeaveDate', inplace=True)"
   ]
  },
  {
   "cell_type": "code",
   "execution_count": 23,
   "metadata": {},
   "outputs": [
    {
     "data": {
      "text/plain": [
       "array(['ANNUAL LEAVE', 'BACK TO INDIA'], dtype=object)"
      ]
     },
     "execution_count": 23,
     "metadata": {},
     "output_type": "execute_result"
    }
   ],
   "source": [
    "data['AppliedLeaveTypeName'].unique()"
   ]
  },
  {
   "cell_type": "code",
   "execution_count": 24,
   "metadata": {},
   "outputs": [],
   "source": [
    "time_series = data['LeaveStatus']"
   ]
  },
  {
   "cell_type": "code",
   "execution_count": 25,
   "metadata": {},
   "outputs": [
    {
     "data": {
      "text/plain": [
       "array([0, 1], dtype=int64)"
      ]
     },
     "execution_count": 25,
     "metadata": {},
     "output_type": "execute_result"
    }
   ],
   "source": [
    "time_series.unique()"
   ]
  },
  {
   "cell_type": "code",
   "execution_count": 26,
   "metadata": {},
   "outputs": [
    {
     "data": {
      "image/png": "[encoded data removed]",
      "text/plain": [
       "<Figure size 1000x500 with 1 Axes>"
      ]
     },
     "metadata": {},
     "output_type": "display_data"
    }
   ],
   "source": [
    "time_series.plot(title=f'Leave Status for Employee {employee_code}', figsize=(10, 5))\n",
    "plt.show()"
   ]
  },
  {
   "cell_type": "code",
   "execution_count": 27,
   "metadata": {},
   "outputs": [],
   "source": [
    "def check_stationarity(series):\n",
    "    result = adfuller(series)\n",
    "    print(f'ADF Statistic: {result[0]}')\n",
    "    print(f'p-value: {result[1]}')\n",
    "    if result[1] > 0.05:\n",
    "        print(\"Time series is NOT stationary. Consider differencing.\")\n",
    "    else:\n",
    "        print(\"Time series is stationary.\")\n"
   ]
  },
  {
   "cell_type": "code",
   "execution_count": 28,
   "metadata": {},
   "outputs": [
    {
     "name": "stdout",
     "output_type": "stream",
     "text": [
      "ADF Statistic: -1.4798180427591656\n",
      "p-value: 0.543470396786865\n",
      "Time series is NOT stationary. Consider differencing.\n"
     ]
    }
   ],
   "source": [
    "check_stationarity(time_series)"
   ]
  },
  {
   "cell_type": "code",
   "execution_count": 29,
   "metadata": {},
   "outputs": [],
   "source": [
    "diff_series = time_series.diff().dropna()"
   ]
  },
  {
   "cell_type": "code",
   "execution_count": 30,
   "metadata": {},
   "outputs": [
    {
     "name": "stdout",
     "output_type": "stream",
     "text": [
      "ADF Statistic: -13.341664064126334\n",
      "p-value: 5.903464617998741e-25\n",
      "Time series is stationary.\n"
     ]
    }
   ],
   "source": [
    "check_stationarity(diff_series)"
   ]
  },
  {
   "cell_type": "code",
   "execution_count": 32,
   "metadata": {},
   "outputs": [
    {
     "name": "stderr",
     "output_type": "stream",
     "text": [
      "d:\\Anaconda\\Lib\\site-packages\\statsmodels\\tsa\\base\\tsa_model.py:473: ValueWarning: No frequency information was provided, so inferred frequency D will be used.\n",
      "  self._init_dates(dates, freq)\n",
      "d:\\Anaconda\\Lib\\site-packages\\statsmodels\\tsa\\base\\tsa_model.py:473: ValueWarning: No frequency information was provided, so inferred frequency D will be used.\n",
      "  self._init_dates(dates, freq)\n",
      "d:\\Anaconda\\Lib\\site-packages\\statsmodels\\tsa\\base\\tsa_model.py:473: ValueWarning: No frequency information was provided, so inferred frequency D will be used.\n",
      "  self._init_dates(dates, freq)\n"
     ]
    }
   ],
   "source": [
    "model = ARIMA(time_series, order=(2, 1, 0))  # Replace p, d, q with appropriate values\n",
    "arima_result = model.fit()"
   ]
  },
  {
   "cell_type": "code",
   "execution_count": 33,
   "metadata": {},
   "outputs": [
    {
     "name": "stdout",
     "output_type": "stream",
     "text": [
      "                               SARIMAX Results                                \n",
      "==============================================================================\n",
      "Dep. Variable:            LeaveStatus   No. Observations:                  182\n",
      "Model:                 ARIMA(2, 1, 0)   Log Likelihood                 150.906\n",
      "Date:                Sun, 22 Dec 2024   AIC                           -295.813\n",
      "Time:                        19:42:53   BIC                           -286.217\n",
      "Sample:                    02-01-2024   HQIC                          -291.922\n",
      "                         - 07-31-2024                                         \n",
      "Covariance Type:                  opg                                         \n",
      "==============================================================================\n",
      "                 coef    std err          z      P>|z|      [0.025      0.975]\n",
      "------------------------------------------------------------------------------\n",
      "ar.L1       8.255e-08    3.2e-13   2.58e+05      0.000    8.26e-08    8.26e-08\n",
      "ar.L2       8.255e-08    3.2e-13   2.58e+05      0.000    8.26e-08    8.26e-08\n",
      "sigma2         0.0110      0.000     63.645      0.000       0.011       0.011\n",
      "===================================================================================\n",
      "Ljung-Box (L1) (Q):                   0.00   Jarque-Bera (JB):             57740.89\n",
      "Prob(Q):                              1.00   Prob(JB):                         0.00\n",
      "Heteroskedasticity (H):               0.00   Skew:                            -0.00\n",
      "Prob(H) (two-sided):                  0.00   Kurtosis:                        90.50\n",
      "===================================================================================\n",
      "\n",
      "Warnings:\n",
      "[1] Covariance matrix calculated using the outer product of gradients (complex-step).\n",
      "[2] Covariance matrix is singular or near-singular, with condition number    inf. Standard errors may be unstable.\n"
     ]
    }
   ],
   "source": [
    "print(arima_result.summary())"
   ]
  },
  {
   "cell_type": "code",
   "execution_count": 34,
   "metadata": {},
   "outputs": [
    {
     "name": "stdout",
     "output_type": "stream",
     "text": [
      "Forecasted Values: 2024-08-01    0.0\n",
      "2024-08-02    0.0\n",
      "2024-08-03    0.0\n",
      "2024-08-04    0.0\n",
      "2024-08-05    0.0\n",
      "2024-08-06    0.0\n",
      "2024-08-07    0.0\n",
      "Freq: D, Name: predicted_mean, dtype: float64\n"
     ]
    }
   ],
   "source": [
    "# Forecast the next 7 days\n",
    "forecast = arima_result.forecast(steps=7)\n",
    "print(f\"Forecasted Values: {forecast}\")\n"
   ]
  },
  {
   "cell_type": "code",
   "execution_count": 36,
   "metadata": {},
   "outputs": [],
   "source": [
    "target_date = datetime(2024, 12, 25)  # Example: Christmas Day\n",
    "current_date = time_series.index[-1]"
   ]
  },
  {
   "cell_type": "code",
   "execution_count": 37,
   "metadata": {},
   "outputs": [],
   "source": [
    "steps_to_predict = (target_date - current_date).days"
   ]
  },
  {
   "cell_type": "code",
   "execution_count": 39,
   "metadata": {},
   "outputs": [],
   "source": [
    "forecast = arima_result.forecast(steps=steps_to_predict)"
   ]
  },
  {
   "cell_type": "code",
   "execution_count": 41,
   "metadata": {},
   "outputs": [
    {
     "name": "stdout",
     "output_type": "stream",
     "text": [
      "Predicted Value for 2024-12-25 00:00:00: 0.0\n"
     ]
    }
   ],
   "source": [
    "predicted_value = forecast.iloc[-1]  # The last value corresponds to the target date\n",
    "print(f\"Predicted Value for {target_date}: {predicted_value}\")"
   ]
  },
  {
   "cell_type": "code",
   "execution_count": null,
   "metadata": {},
   "outputs": [],
   "source": []
  }
 ],
 "metadata": {
  "kernelspec": {
   "display_name": "base",
   "language": "python",
   "name": "python3"
  },
  "language_info": {
   "codemirror_mode": {
    "name": "ipython",
    "version": 3
   },
   "file_extension": ".py",
   "mimetype": "text/x-python",
   "name": "python",
   "nbconvert_exporter": "python",
   "pygments_lexer": "ipython3",
   "version": "3.12.7"
  }
 },
 "nbformat": 4,
 "nbformat_minor": 2
}
